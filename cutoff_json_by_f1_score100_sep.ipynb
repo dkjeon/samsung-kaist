{
 "cells": [
  {
   "cell_type": "code",
   "execution_count": 2,
   "metadata": {},
   "outputs": [],
   "source": [
    "import json\n",
    "import pickle\n",
    "import collections\n",
    "import random"
   ]
  },
  {
   "cell_type": "code",
   "execution_count": 13,
   "metadata": {},
   "outputs": [],
   "source": [
    "gen_sample_size = 30000\n",
    "stnd_score = 80 # vae:55 , seq:80\n",
    "json_filename = \"seq2seq_aug_korquad_train.json\"\n",
    "pkl_filename = \"seq2seq_aug_korquad_train_f1_scores.pkl\"\n",
    "final_aug_file_name = 'aug_korquad_train_sample_less100.json'\n",
    "\n",
    "# json_filename = \"aug_train_wQA.json\"\n",
    "# pkl_filename = \"aug_train_wQA_f1_scores.pkl\"\n",
    "# final_aug_file_name = 'aug_train_wQA_sample.json'\n",
    "\n",
    "# json_filename = \"KorQuAD_v1.0_train_wQA_f1_BEST_x3.json\"\n",
    "# pkl_filename = \"f1_scores_vae_f1_best_x3.pkl\"\n",
    "# final_aug_file_name = 'KorQuAD_v1.0_train_wQA_f1_BEST_x3_sample_less100.json'"
   ]
  },
  {
   "cell_type": "code",
   "execution_count": 14,
   "metadata": {},
   "outputs": [],
   "source": [
    "with open(pkl_filename, 'rb') as file:\n",
    "    data = pickle.load(file)\n",
    "\n",
    "sorted_data = sorted(data.items(), key=lambda kv: kv[1])\n",
    "sorted_data = collections.OrderedDict(sorted_data)"
   ]
  },
  {
   "cell_type": "code",
   "execution_count": 15,
   "metadata": {},
   "outputs": [
    {
     "name": "stdout",
     "output_type": "stream",
     "text": [
      "score 합격 qas: 2486\n",
      "score 100 qas: 51968\n",
      "score 불합격 qas: 12758\n",
      "original qas size: 60407\n",
      "삭제할 score 100 sample size : 24454 \n",
      "최종 qas size(over 80~99 + 100 + original):  2486 + 27514 + 60407 = 90407\n"
     ]
    }
   ],
   "source": [
    "######################### cut score 100 seperately #########################\n",
    "original_qas_list = dict()\n",
    "gen_qas_list = dict()\n",
    "score100_qas_list = dict()\n",
    "underscore_qas_list = []\n",
    "\n",
    "for (key, value) in sorted_data.items():\n",
    "    if(not str(key).startswith('9')):\n",
    "        original_qas_list[key] = value\n",
    "    else:        \n",
    "        if(value == 100):\n",
    "            score100_qas_list[key] = value\n",
    "        elif(value >= stnd_score):\n",
    "            gen_qas_list[key] = value        \n",
    "        else:\n",
    "            underscore_qas_list.append(key)\n",
    "        \n",
    "gen_qas_size = len(gen_qas_list)\n",
    "score100_qas_size = len(score100_qas_list)\n",
    "original_qas_size = len(original_qas_list)\n",
    "underscore_qas_size = len(underscore_qas_list)\n",
    "print('score 합격 qas: %d' % gen_qas_size)\n",
    "print('score 100 qas: %d' % score100_qas_size)\n",
    "print('score 불합격 qas: %d' % underscore_qas_size)\n",
    "print('original qas size: %d' % original_qas_size)\n",
    "\n",
    "# random sample from 100 score list\n",
    "\n",
    "sample_score100_size = gen_sample_size - gen_qas_size\n",
    "minus_score100_size = score100_qas_size - sample_score100_size\n",
    "print('삭제할 score 100 sample size : %d ' % minus_score100_size)\n",
    "sample_minus_score100_qas_list = random.sample(list(score100_qas_list), minus_score100_size)\n",
    "sample_minus_qas_list = sample_minus_score100_qas_list + underscore_qas_list\n",
    "\n",
    "print('최종 qas size(over 80~99 + 100 + original):  %d + %d + %d = %d' % (gen_qas_size, sample_score100_size, original_qas_size, (gen_qas_size+sample_score100_size+original_qas_size)))"
   ]
  },
  {
   "cell_type": "code",
   "execution_count": 16,
   "metadata": {},
   "outputs": [],
   "source": [
    "with open(json_filename) as json_file:\n",
    "    data_json = json.load(json_file)\n",
    "    \n",
    "datai = data_json['data']"
   ]
  },
  {
   "cell_type": "code",
   "execution_count": 17,
   "metadata": {},
   "outputs": [
    {
     "name": "stdout",
     "output_type": "stream",
     "text": [
      "-> parsed : 10000\n",
      "-> parsed : 20000\n",
      "-> parsed : 30000\n",
      "-> parsed : 40000\n",
      "-> parsed : 50000\n",
      "-> parsed : 60000\n",
      "-> parsed : 70000\n",
      "-> parsed : 80000\n",
      "-> parsed : 90000\n",
      "minus count: 37212\n",
      "Generate QAS size : 90407 (original:60407 / generation:30000)\n"
     ]
    }
   ],
   "source": [
    "data_list_size = len(datai)\n",
    "minus_cnt = 0\n",
    "question_size = 0\n",
    "\n",
    "data_index = 0\n",
    "while(True):\n",
    "    if(data_index == data_list_size):\n",
    "        break\n",
    "\n",
    "    paragraph_list = datai[data_index]['paragraphs']    \n",
    "    paragraph_list_size = len(paragraph_list)\n",
    "    paragraph_index = 0\n",
    "    while(True):\n",
    "        if(paragraph_index == paragraph_list_size):\n",
    "            break\n",
    "        \n",
    "        paragA = paragraph_list[paragraph_index]        \n",
    "        qas_list = paragA['qas']\n",
    "        qlen = len(qas_list)\n",
    "        index = 0\n",
    "        while(True):            \n",
    "            if(qlen == index):\n",
    "                break\n",
    "                        \n",
    "            if(qas_list[index]['id'] in sample_minus_qas_list):\n",
    "                qas_list.pop(index)\n",
    "                minus_cnt += 1                \n",
    "                qlen -= 1\n",
    "            else:\n",
    "                question_size += 1\n",
    "                if(question_size % 10000 == 0):\n",
    "                    print(\"-> parsed : \" + str(question_size))\n",
    "                index +=1\n",
    "        \n",
    "        if(qlen == 0):\n",
    "#             print('is empty paragraph')\n",
    "            paragraph_list.pop(paragraph_index)\n",
    "            paragraph_list_size -= 1\n",
    "        else:\n",
    "            paragraph_index+=1\n",
    "    \n",
    "    if(paragraph_list_size==0):\n",
    "#         print('is empty data')\n",
    "        datai.pop(data_index)        \n",
    "        data_list_size -= 1\n",
    "    else:\n",
    "        data_index+=1\n",
    "\n",
    "print('minus count: %d' % minus_cnt)\n",
    "print('Generate QAS size : %d (original:%d / generation:%d)' % (question_size, original_qas_size, gen_sample_size))\n",
    "\n",
    "new_sample_data = dict()\n",
    "new_sample_data[\"version\"] = \"KorQuAD_v1.0_sample_train\"\n",
    "new_sample_data[\"data\"] = datai\n",
    "\n",
    "with open(final_aug_file_name, \"w\") as writer:\n",
    "    writer.write(json.dumps(new_sample_data, indent=4) + \"\\n\")"
   ]
  },
  {
   "cell_type": "code",
   "execution_count": null,
   "metadata": {},
   "outputs": [],
   "source": []
  }
 ],
 "metadata": {
  "kernelspec": {
   "display_name": "Python 3",
   "language": "python",
   "name": "python3"
  },
  "language_info": {
   "codemirror_mode": {
    "name": "ipython",
    "version": 3
   },
   "file_extension": ".py",
   "mimetype": "text/x-python",
   "name": "python",
   "nbconvert_exporter": "python",
   "pygments_lexer": "ipython3",
   "version": "3.7.3"
  }
 },
 "nbformat": 4,
 "nbformat_minor": 2
}
